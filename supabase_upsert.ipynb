{
 "cells": [
  {
   "cell_type": "code",
   "execution_count": null,
   "metadata": {},
   "outputs": [],
   "source": [
    "import json\n",
    "import os\n",
    "from typing import List, Dict, Any\n",
    "from langchain_cohere import CohereEmbeddings\n",
    "from supabase import create_client\n",
    "from dotenv import load_dotenv\n",
    "\n",
    "load_dotenv()\n",
    "# Supabase and Cohere credentials\n",
    "supabase_url = os.environ.get(\"SUPABASE_URL\")\n",
    "supabase_key = os.environ.get(\"SUPABASE_KEY\")\n",
    "cohere_api_key = os.environ.get(\"COHERE_API_KEY\")\n",
    "\n",
    "# Initialize clients\n",
    "supabase_client = create_client(supabase_url, supabase_key)\n",
    "embeddings_model = CohereEmbeddings(\n",
    "    model=\"embed-english-v3.0\",\n",
    "    cohere_api_key=cohere_api_key\n",
    ")\n",
    "\n",
    "def load_forms_from_json(file_path: str) -> List[Dict[str, Any]]:\n",
    "    with open(file_path, 'r') as f:\n",
    "        data = json.load(f)\n",
    "    return data.get('forms', [])\n",
    "\n",
    "def upsert_forms_to_supabase(json_file_path: str):\n",
    "    # Load forms from JSON\n",
    "    forms = load_forms_from_json(json_file_path)\n",
    "    \n",
    "    # Process each form\n",
    "    for form in forms:\n",
    "        # Create text for embedding\n",
    "        text_to_embed = f\"{form['name']}: {form['description']}\"\n",
    "        \n",
    "        # Generate embedding using LangChain's Cohere embeddings\n",
    "        embedding_vector = embeddings_model.embed_query(text_to_embed)\n",
    "        \n",
    "        # Prepare data for upsert with all fields\n",
    "        form_data = {\n",
    "            \"form_id\": form['id'],\n",
    "            \"form_name\": form['name'],\n",
    "            \"form_description\": form['description'],\n",
    "            \"form_structure\": form['structure'],  # This will be stored as JSONB\n",
    "            \"embedding\": embedding_vector\n",
    "        }\n",
    "        \n",
    "        # Direct upsert to ensure all fields are added\n",
    "        response = supabase_client.table(\"forms\").upsert(form_data).execute()\n",
    "        \n",
    "        # Check for errors\n",
    "        if hasattr(response, 'error') and response.error is not None:\n",
    "            print(f\"Error upserting form {form['id']}: {response.error}\")\n",
    "        else:\n",
    "            print(f\"Successfully upserted form {form['id']}\")\n",
    "\n",
    "if __name__ == \"__main__\":\n",
    "    upsert_forms_to_supabase(\"data.json\")\n"
   ]
  },
  {
   "cell_type": "code",
   "execution_count": null,
   "metadata": {},
   "outputs": [],
   "source": []
  },
  {
   "cell_type": "code",
   "execution_count": null,
   "metadata": {},
   "outputs": [],
   "source": []
  },
  {
   "cell_type": "code",
   "execution_count": null,
   "metadata": {},
   "outputs": [],
   "source": []
  },
  {
   "cell_type": "code",
   "execution_count": null,
   "metadata": {},
   "outputs": [],
   "source": []
  }
 ],
 "metadata": {
  "language_info": {
   "name": "python"
  }
 },
 "nbformat": 4,
 "nbformat_minor": 2
}
